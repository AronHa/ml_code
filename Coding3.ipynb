{
 "cells": [
  {
   "cell_type": "code",
   "execution_count": 65,
   "metadata": {},
   "outputs": [],
   "source": [
    "import pandas as pd\n",
    "from sklearn.cluster import KMeans\n",
    "from sklearn.preprocessing import Imputer\n",
    "from sklearn.preprocessing import StandardScaler\n",
    "from sklearn.pipeline import Pipeline\n",
    "\n",
    "\n",
    "def data_fix(x):\n",
    "    if isinstance(x,str):\n",
    "        return float(x.replace(\"$\",\"\").replace(\",\",\"\"))\n",
    "    else:\n",
    "        return x\n",
    "    \n",
    "num_pipeline = Pipeline([\n",
    "    ('imputer', Imputer(strategy=\"median\")),\n",
    "    ('std_scaler', StandardScaler()),\n",
    "])\n"
   ]
  },
  {
   "cell_type": "code",
   "execution_count": 7,
   "metadata": {
    "scrolled": true
   },
   "outputs": [
    {
     "name": "stdout",
     "output_type": "stream",
     "text": [
      "<class 'pandas.core.frame.DataFrame'>\n",
      "RangeIndex: 50 entries, 0 to 49\n",
      "Data columns (total 8 columns):\n",
      "Undergraduate Major                                  50 non-null object\n",
      "Starting Median Salary                               50 non-null object\n",
      "Mid-Career Median Salary                             50 non-null object\n",
      "Percent change from Starting to Mid-Career Salary    50 non-null float64\n",
      "Mid-Career 10th Percentile Salary                    50 non-null object\n",
      "Mid-Career 25th Percentile Salary                    50 non-null object\n",
      "Mid-Career 75th Percentile Salary                    50 non-null object\n",
      "Mid-Career 90th Percentile Salary                    50 non-null object\n",
      "dtypes: float64(1), object(7)\n",
      "memory usage: 3.2+ KB\n",
      "None\n"
     ]
    }
   ],
   "source": [
    "degrees = pd.read_csv(\"./college-salaries/degrees-that-pay-back.csv\")\n",
    "\n",
    "print(degrees.info())\n",
    "\n",
    "strings = [\"Undergraduate Major\"]\n",
    "x = degrees.drop(strings,axis=1)\n",
    "y = degrees[strings].copy()\n",
    "\n",
    "for attrib in x.columns.values:\n",
    "    print(attrib)\n",
    "    x[attrib] = x[attrib].apply(data_fix)\n",
    "\n",
    "print(x.info())\n",
    "\n",
    "x = num_pipeline.fit_transform(x)\n"
   ]
  },
  {
   "cell_type": "code",
   "execution_count": 66,
   "metadata": {},
   "outputs": [
    {
     "name": "stdout",
     "output_type": "stream",
     "text": [
      "<class 'pandas.core.frame.DataFrame'>\n",
      "RangeIndex: 269 entries, 0 to 268\n",
      "Data columns (total 8 columns):\n",
      "School Name                          269 non-null object\n",
      "School Type                          269 non-null object\n",
      "Starting Median Salary               269 non-null object\n",
      "Mid-Career Median Salary             269 non-null object\n",
      "Mid-Career 10th Percentile Salary    231 non-null object\n",
      "Mid-Career 25th Percentile Salary    269 non-null object\n",
      "Mid-Career 75th Percentile Salary    269 non-null object\n",
      "Mid-Career 90th Percentile Salary    231 non-null object\n",
      "dtypes: object(8)\n",
      "memory usage: 16.9+ KB\n",
      "None\n",
      "Starting Median Salary\n",
      "Mid-Career Median Salary\n",
      "Mid-Career 10th Percentile Salary\n",
      "Mid-Career 25th Percentile Salary\n",
      "Mid-Career 75th Percentile Salary\n",
      "Mid-Career 90th Percentile Salary\n",
      "<class 'pandas.core.frame.DataFrame'>\n",
      "RangeIndex: 269 entries, 0 to 268\n",
      "Data columns (total 6 columns):\n",
      "Starting Median Salary               269 non-null float64\n",
      "Mid-Career Median Salary             269 non-null float64\n",
      "Mid-Career 10th Percentile Salary    231 non-null float64\n",
      "Mid-Career 25th Percentile Salary    269 non-null float64\n",
      "Mid-Career 75th Percentile Salary    269 non-null float64\n",
      "Mid-Career 90th Percentile Salary    231 non-null float64\n",
      "dtypes: float64(6)\n",
      "memory usage: 12.7 KB\n",
      "None\n"
     ]
    }
   ],
   "source": [
    "ctype = pd.read_csv(\"./college-salaries/salaries-by-college-type.csv\")\n",
    "\n",
    "print(ctype.info())\n",
    "\n",
    "strings = [\"School Type\",\"School Name\"]\n",
    "x = ctype.drop(strings,axis=1)\n",
    "y = ctype[strings].copy()\n",
    "\n",
    "for attrib in x.columns.values:\n",
    "    print(attrib)\n",
    "    x[attrib] = x[attrib].apply(data_fix)\n",
    "\n",
    "print(x.info())\n",
    "\n",
    "x = num_pipeline.fit_transform(x)\n",
    "\n"
   ]
  },
  {
   "cell_type": "code",
   "execution_count": 72,
   "metadata": {},
   "outputs": [
    {
     "name": "stdout",
     "output_type": "stream",
     "text": [
      "<class 'pandas.core.frame.DataFrame'>\n",
      "RangeIndex: 320 entries, 0 to 319\n",
      "Data columns (total 8 columns):\n",
      "School Name                          320 non-null object\n",
      "Region                               320 non-null object\n",
      "Starting Median Salary               320 non-null object\n",
      "Mid-Career Median Salary             320 non-null object\n",
      "Mid-Career 10th Percentile Salary    273 non-null object\n",
      "Mid-Career 25th Percentile Salary    320 non-null object\n",
      "Mid-Career 75th Percentile Salary    320 non-null object\n",
      "Mid-Career 90th Percentile Salary    273 non-null object\n",
      "dtypes: object(8)\n",
      "memory usage: 20.1+ KB\n",
      "None\n",
      "Starting Median Salary\n",
      "Mid-Career Median Salary\n",
      "Mid-Career 10th Percentile Salary\n",
      "Mid-Career 25th Percentile Salary\n",
      "Mid-Career 75th Percentile Salary\n",
      "Mid-Career 90th Percentile Salary\n",
      "<class 'pandas.core.frame.DataFrame'>\n",
      "RangeIndex: 320 entries, 0 to 319\n",
      "Data columns (total 6 columns):\n",
      "Starting Median Salary               320 non-null float64\n",
      "Mid-Career Median Salary             320 non-null float64\n",
      "Mid-Career 10th Percentile Salary    273 non-null float64\n",
      "Mid-Career 25th Percentile Salary    320 non-null float64\n",
      "Mid-Career 75th Percentile Salary    320 non-null float64\n",
      "Mid-Career 90th Percentile Salary    273 non-null float64\n",
      "dtypes: float64(6)\n",
      "memory usage: 15.1 KB\n",
      "None\n"
     ]
    }
   ],
   "source": [
    "region = pd.read_csv(\"./college-salaries/salaries-by-region.csv\")\n",
    "\n",
    "print(region.info())\n",
    "\n",
    "strings = [\"School Name\",\"Region\"]\n",
    "x = region.drop(strings,axis=1)\n",
    "y = region[strings].copy()\n",
    "\n",
    "for attrib in x.columns.values:\n",
    "    print(attrib)\n",
    "    x[attrib] = x[attrib].apply(data_fix)\n",
    "\n",
    "print(x.info())\n",
    "\n",
    "x = num_pipeline.fit_transform(x)\n"
   ]
  },
  {
   "cell_type": "code",
   "execution_count": 73,
   "metadata": {},
   "outputs": [
    {
     "name": "stdout",
     "output_type": "stream",
     "text": [
      "[1 1 1 1 2 1 2 2 2 2 2 2 2 2 2 2 2 2 2 2 2 2 0 2 0 0 0 0 1 2 2 2 2 2 2 2 2\n",
      " 2 2 0 2 0 0 2 0 2 2 0 0 0 0 0 0 0 0 0 0 0 0 0 0 0 0 0 0 0 0 0 0 0 1 1 2 2\n",
      " 2 2 2 1 1 2 2 2 2 2 2 2 2 2 2 2 2 2 2 2 2 0 2 0 2 2 0 0 0 2 0 0 2 0 0 0 0\n",
      " 0 0 0 0 0 0 0 0 0 0 0 0 0 0 0 0 0 0 0 0 0 0 0 0 0 0 0 0 0 0 1 1 1 1 2 2 2\n",
      " 1 2 2 2 2 2 2 2 2 2 2 2 2 2 2 2 2 2 2 2 2 2 2 2 2 2 0 2 0 0 0 0 0 0 0 2 0\n",
      " 0 0 0 0 0 0 0 0 0 0 0 0 0 0 0 0 0 0 0 0 0 0 0 0 0 0 0 0 0 0 0 0 0 0 0 1 1\n",
      " 1 1 1 1 1 1 1 1 1 1 1 1 1 1 2 1 2 2 1 1 2 2 2 1 2 2 2 2 2 2 2 2 2 2 2 2 2\n",
      " 2 2 2 2 2 2 2 2 2 2 2 2 2 2 2 2 2 2 2 2 2 2 2 2 0 2 2 2 2 2 2 2 2 2 0 0 2\n",
      " 0 0 2 2 0 0 0 0 0 2 0 0 0 0 0 0 0 0 0 0 0 0 0 0]\n"
     ]
    }
   ],
   "source": [
    "k = 3\n",
    "kmeans = KMeans(n_clusters=k, random_state=42)\n",
    "y_pred = kmeans.fit_predict(x)\n",
    "\n",
    "print(y_pred)\n"
   ]
  }
 ],
 "metadata": {
  "kernelspec": {
   "display_name": "Python 3",
   "language": "python",
   "name": "python3"
  },
  "language_info": {
   "codemirror_mode": {
    "name": "ipython",
    "version": 3
   },
   "file_extension": ".py",
   "mimetype": "text/x-python",
   "name": "python",
   "nbconvert_exporter": "python",
   "pygments_lexer": "ipython3",
   "version": "3.7.0"
  }
 },
 "nbformat": 4,
 "nbformat_minor": 2
}
